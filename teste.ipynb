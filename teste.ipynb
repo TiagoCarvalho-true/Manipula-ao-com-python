{
 "cells": [
  {
   "cell_type": "code",
   "execution_count": 3,
   "metadata": {},
   "outputs": [],
   "source": [
    "import sqlite3\n",
    "def conectar():\n",
    "    return sqlite3.connect('mini_empresa.db')"
   ]
  },
  {
   "cell_type": "code",
   "execution_count": 4,
   "metadata": {},
   "outputs": [],
   "source": [
    "\n",
    "def conectar():\n",
    "    return sqlite3.connect('mini_empresa.db')\n",
    "\n",
    "\n",
    "def listar_produtos():\n",
    "    conexao = conectar()\n",
    "    cursor =  conexao.cursor()\n",
    "    cursor.execute('SELECT * FROM Produtos;',conexao =  conectar())\n",
    "    produtos = cursor.fetchall()\n",
    "    conexao.close()\n",
    "\n",
    "    listbox_produtos.delete(0, tk.END)\n",
    "\n",
    "    for produto in produtos:\n",
    "        listbox_produtos.insert(tk.END, f\"id : {produto[0]}, Nome:{produto[1]},Preço:{produto[2]}, Quantidade: {produto[3]}\")\n"
   ]
  }
 ],
 "metadata": {
  "kernelspec": {
   "display_name": "base",
   "language": "python",
   "name": "python3"
  },
  "language_info": {
   "codemirror_mode": {
    "name": "ipython",
    "version": 3
   },
   "file_extension": ".py",
   "mimetype": "text/x-python",
   "name": "python",
   "nbconvert_exporter": "python",
   "pygments_lexer": "ipython3",
   "version": "3.12.4"
  }
 },
 "nbformat": 4,
 "nbformat_minor": 2
}
